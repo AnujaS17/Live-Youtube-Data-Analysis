{
 "cells": [
  {
   "cell_type": "code",
   "execution_count": 1,
   "id": "170681aa",
   "metadata": {
    "ExecuteTime": {
     "end_time": "2024-03-22T16:10:31.820370Z",
     "start_time": "2024-03-22T16:10:31.201810Z"
    }
   },
   "outputs": [],
   "source": [
    "import numpy as np\n",
    "import pandas as pd "
   ]
  },
  {
   "cell_type": "code",
   "execution_count": 2,
   "id": "4d72e58a",
   "metadata": {
    "ExecuteTime": {
     "end_time": "2024-03-22T16:10:31.996341Z",
     "start_time": "2024-03-22T16:10:31.822403Z"
    }
   },
   "outputs": [],
   "source": [
    "df = pd.read_csv(\"YT Data Set 1C.csv\")"
   ]
  },
  {
   "cell_type": "code",
   "execution_count": 3,
   "id": "86edb70b",
   "metadata": {
    "ExecuteTime": {
     "end_time": "2024-03-22T16:10:32.016191Z",
     "start_time": "2024-03-22T16:10:31.998350Z"
    },
    "scrolled": true
   },
   "outputs": [
    {
     "data": {
      "text/html": [
       "<div>\n",
       "<style scoped>\n",
       "    .dataframe tbody tr th:only-of-type {\n",
       "        vertical-align: middle;\n",
       "    }\n",
       "\n",
       "    .dataframe tbody tr th {\n",
       "        vertical-align: top;\n",
       "    }\n",
       "\n",
       "    .dataframe thead th {\n",
       "        text-align: right;\n",
       "    }\n",
       "</style>\n",
       "<table border=\"1\" class=\"dataframe\">\n",
       "  <thead>\n",
       "    <tr style=\"text-align: right;\">\n",
       "      <th></th>\n",
       "      <th>Category</th>\n",
       "      <th>Video ID</th>\n",
       "      <th>Title</th>\n",
       "      <th>Channel</th>\n",
       "      <th>Channel ID</th>\n",
       "      <th>Published At</th>\n",
       "      <th>Description</th>\n",
       "      <th>Views</th>\n",
       "      <th>Likes</th>\n",
       "      <th>Comments</th>\n",
       "      <th>Duration (Minutes:Seconds)</th>\n",
       "      <th>Tags/Keywords</th>\n",
       "      <th>Subscriber Count</th>\n",
       "      <th>Thumbnail URL</th>\n",
       "    </tr>\n",
       "  </thead>\n",
       "  <tbody>\n",
       "    <tr>\n",
       "      <th>0</th>\n",
       "      <td>Arts &amp; Culture</td>\n",
       "      <td>6VlO0yJuj_8</td>\n",
       "      <td>Art &amp; Culture Top 50 MCQs June 2023 Updated | ...</td>\n",
       "      <td>SSC Adda247</td>\n",
       "      <td>UCAyYBPzFioHUxvVZEn4rMJA</td>\n",
       "      <td>2023-06-13T14:20:14Z</td>\n",
       "      <td>Art &amp; Culture Top 50 MCQs June 2023 Updated | ...</td>\n",
       "      <td>333581</td>\n",
       "      <td>19539</td>\n",
       "      <td>686</td>\n",
       "      <td>13:46</td>\n",
       "      <td>important art and culture ssc, important art a...</td>\n",
       "      <td>8000000</td>\n",
       "      <td>https://i.ytimg.com/vi/6VlO0yJuj_8/default.jpg</td>\n",
       "    </tr>\n",
       "    <tr>\n",
       "      <th>1</th>\n",
       "      <td>Arts &amp; Culture</td>\n",
       "      <td>hQ1aYndYgJ4</td>\n",
       "      <td>ART &amp; CULTURE DEPARTMENT ZAIPAWL VOL-1, disc 3</td>\n",
       "      <td>A&amp;C Mizoram</td>\n",
       "      <td>UCydP2aV8KErUJI2QoO5Bjcw</td>\n",
       "      <td>2020-12-01T07:29:44Z</td>\n",
       "      <td>He video hi hmun danga upload phala nilo</td>\n",
       "      <td>603993</td>\n",
       "      <td>5100</td>\n",
       "      <td>433</td>\n",
       "      <td>56:46:00</td>\n",
       "      <td>NaN</td>\n",
       "      <td>27900</td>\n",
       "      <td>https://i.ytimg.com/vi/hQ1aYndYgJ4/default.jpg</td>\n",
       "    </tr>\n",
       "    <tr>\n",
       "      <th>2</th>\n",
       "      <td>Arts &amp; Culture</td>\n",
       "      <td>hyRpCa9Qv48</td>\n",
       "      <td>Understanding the Value of Arts and Culture | ...</td>\n",
       "      <td>ahrcpress</td>\n",
       "      <td>UC4oFqK01f4STG5UJ72JAbdw</td>\n",
       "      <td>2016-04-20T09:35:15Z</td>\n",
       "      <td>The debate over the value and impact of arts a...</td>\n",
       "      <td>46954</td>\n",
       "      <td>352</td>\n",
       "      <td>6</td>\n",
       "      <td>02:58</td>\n",
       "      <td>AHRC, Arts and Humanties Research Council, Art...</td>\n",
       "      <td>2880</td>\n",
       "      <td>https://i.ytimg.com/vi/hyRpCa9Qv48/default.jpg</td>\n",
       "    </tr>\n",
       "    <tr>\n",
       "      <th>3</th>\n",
       "      <td>Arts &amp; Culture</td>\n",
       "      <td>nLU2f3pfCs8</td>\n",
       "      <td>Delhi Police 2023 Exam | à¤•à¤²à¤¾ à¤à¤µà¤‚ à...</td>\n",
       "      <td>Rojgar with Ankit</td>\n",
       "      <td>UC5H9MzrMkJ5iuN11vV2PLhA</td>\n",
       "      <td>2023-11-07T16:28:07Z</td>\n",
       "      <td>Delhi Police 2023 Exam | à¤•à¤²à¤¾ à¤à¤µà¤‚ à...</td>\n",
       "      <td>1659779</td>\n",
       "      <td>86921</td>\n",
       "      <td>1718</td>\n",
       "      <td>155:40:00</td>\n",
       "      <td>art &amp; culture class, art &amp; culture for ssc chs...</td>\n",
       "      <td>11800000</td>\n",
       "      <td>https://i.ytimg.com/vi/nLU2f3pfCs8/default.jpg</td>\n",
       "    </tr>\n",
       "    <tr>\n",
       "      <th>4</th>\n",
       "      <td>Arts &amp; Culture</td>\n",
       "      <td>r3bLtn8DLYo</td>\n",
       "      <td>EDU in 90: Google Arts &amp; Culture</td>\n",
       "      <td>Google for Education</td>\n",
       "      <td>UCt84aUC9OG6di8kSdKzEHTQ</td>\n",
       "      <td>2018-08-22T22:30:01Z</td>\n",
       "      <td>Curious to learn more about Google Arts &amp; Cult...</td>\n",
       "      <td>14615</td>\n",
       "      <td>136</td>\n",
       "      <td>3</td>\n",
       "      <td>02:45</td>\n",
       "      <td>Google Classroom, Chromebook, Google Earth, Go...</td>\n",
       "      <td>466000</td>\n",
       "      <td>https://i.ytimg.com/vi/r3bLtn8DLYo/default.jpg</td>\n",
       "    </tr>\n",
       "    <tr>\n",
       "      <th>...</th>\n",
       "      <td>...</td>\n",
       "      <td>...</td>\n",
       "      <td>...</td>\n",
       "      <td>...</td>\n",
       "      <td>...</td>\n",
       "      <td>...</td>\n",
       "      <td>...</td>\n",
       "      <td>...</td>\n",
       "      <td>...</td>\n",
       "      <td>...</td>\n",
       "      <td>...</td>\n",
       "      <td>...</td>\n",
       "      <td>...</td>\n",
       "      <td>...</td>\n",
       "    </tr>\n",
       "    <tr>\n",
       "      <th>10184</th>\n",
       "      <td>Travel &amp; Adventure</td>\n",
       "      <td>UCkOEEcyoaUu-6nM-fmQ9jMg</td>\n",
       "      <td>Always choosing this â˜€ï¸ðŸï¸ #Travel #Ad...</td>\n",
       "      <td>Steven Daliva</td>\n",
       "      <td>UCkOEEcyoaUu-6nM-fmQ9jMg</td>\n",
       "      <td>2024-03-18T10:35:49Z</td>\n",
       "      <td>NaN</td>\n",
       "      <td>2075</td>\n",
       "      <td>78</td>\n",
       "      <td>2</td>\n",
       "      <td>00:17</td>\n",
       "      <td>NaN</td>\n",
       "      <td>74</td>\n",
       "      <td>https://i.ytimg.com/vi/1GDB6wlSM5w/default.jpg</td>\n",
       "    </tr>\n",
       "    <tr>\n",
       "      <th>10185</th>\n",
       "      <td>Travel &amp; Adventure</td>\n",
       "      <td>UC0VS45BTHzmoIqR9Ovxhlwg</td>\n",
       "      <td>Adventures fill your soul ðŸª‚ðŸ’ªâ¤ï¸ #trav...</td>\n",
       "      <td>Nature savvy</td>\n",
       "      <td>UC0VS45BTHzmoIqR9Ovxhlwg</td>\n",
       "      <td>2024-03-16T16:57:12Z</td>\n",
       "      <td>@NatureSavvy... \\nAdventures fill your soul\\n#...</td>\n",
       "      <td>4</td>\n",
       "      <td>2</td>\n",
       "      <td>0</td>\n",
       "      <td>00:12</td>\n",
       "      <td>NaN</td>\n",
       "      <td>4</td>\n",
       "      <td>https://i.ytimg.com/vi/fCK5W-EVnsI/default.jpg</td>\n",
       "    </tr>\n",
       "    <tr>\n",
       "      <th>10186</th>\n",
       "      <td>Travel &amp; Adventure</td>\n",
       "      <td>UCBz6JnEN2jKGWLK1b86jUKg</td>\n",
       "      <td>ROG || HYDERABAD || 650 TWINS || VIZAG_COLONY ...</td>\n",
       "      <td>The_Interceptor_guy</td>\n",
       "      <td>UCBz6JnEN2jKGWLK1b86jUKg</td>\n",
       "      <td>2024-03-18T15:12:40Z</td>\n",
       "      <td>\"Embark on a journey with The_Interceptor_guy ...</td>\n",
       "      <td>415</td>\n",
       "      <td>17</td>\n",
       "      <td>2</td>\n",
       "      <td>00:20</td>\n",
       "      <td>NaN</td>\n",
       "      <td>27</td>\n",
       "      <td>https://i.ytimg.com/vi/Ypm3KWlm0Fw/default.jpg</td>\n",
       "    </tr>\n",
       "    <tr>\n",
       "      <th>10187</th>\n",
       "      <td>Travel &amp; Adventure</td>\n",
       "      <td>UCOTZbz1Hw7ohL5Wkk05x_oQ</td>\n",
       "      <td>#travel #adventure #nature #zipline #mountains...</td>\n",
       "      <td>Haseeb Malik ðŸ¤—</td>\n",
       "      <td>UCOTZbz1Hw7ohL5Wkk05x_oQ</td>\n",
       "      <td>2024-03-17T10:58:52Z</td>\n",
       "      <td>NaN</td>\n",
       "      <td>6541</td>\n",
       "      <td>135</td>\n",
       "      <td>0</td>\n",
       "      <td>00:17</td>\n",
       "      <td>NaN</td>\n",
       "      <td>1650</td>\n",
       "      <td>https://i.ytimg.com/vi/xvsSkBRKu1k/default.jpg</td>\n",
       "    </tr>\n",
       "    <tr>\n",
       "      <th>10188</th>\n",
       "      <td>Travel &amp; Adventure</td>\n",
       "      <td>UCdsJ15JOpVYne4qYxQe7UfQ</td>\n",
       "      <td>ACCIDENT on ganga river mirzapur // #trending ...</td>\n",
       "      <td>Atharva Live7</td>\n",
       "      <td>UCdsJ15JOpVYne4qYxQe7UfQ</td>\n",
       "      <td>2024-03-16T05:13:35Z</td>\n",
       "      <td>NaN</td>\n",
       "      <td>473</td>\n",
       "      <td>14</td>\n",
       "      <td>0</td>\n",
       "      <td>00:07</td>\n",
       "      <td>NaN</td>\n",
       "      <td>411</td>\n",
       "      <td>https://i.ytimg.com/vi/kSUBaJ0GkAM/default.jpg</td>\n",
       "    </tr>\n",
       "  </tbody>\n",
       "</table>\n",
       "<p>10189 rows × 14 columns</p>\n",
       "</div>"
      ],
      "text/plain": [
       "                 Category                  Video ID  \\\n",
       "0          Arts & Culture               6VlO0yJuj_8   \n",
       "1          Arts & Culture               hQ1aYndYgJ4   \n",
       "2          Arts & Culture               hyRpCa9Qv48   \n",
       "3          Arts & Culture               nLU2f3pfCs8   \n",
       "4          Arts & Culture               r3bLtn8DLYo   \n",
       "...                   ...                       ...   \n",
       "10184  Travel & Adventure  UCkOEEcyoaUu-6nM-fmQ9jMg   \n",
       "10185  Travel & Adventure  UC0VS45BTHzmoIqR9Ovxhlwg   \n",
       "10186  Travel & Adventure  UCBz6JnEN2jKGWLK1b86jUKg   \n",
       "10187  Travel & Adventure  UCOTZbz1Hw7ohL5Wkk05x_oQ   \n",
       "10188  Travel & Adventure  UCdsJ15JOpVYne4qYxQe7UfQ   \n",
       "\n",
       "                                                   Title  \\\n",
       "0      Art & Culture Top 50 MCQs June 2023 Updated | ...   \n",
       "1         ART & CULTURE DEPARTMENT ZAIPAWL VOL-1, disc 3   \n",
       "2      Understanding the Value of Arts and Culture | ...   \n",
       "3      Delhi Police 2023 Exam | à¤•à¤²à¤¾ à¤à¤µà¤‚ à...   \n",
       "4                       EDU in 90: Google Arts & Culture   \n",
       "...                                                  ...   \n",
       "10184  Always choosing this â˜€ï¸ðŸï¸ #Travel #Ad...   \n",
       "10185  Adventures fill your soul ðŸª‚ðŸ’ªâ¤ï¸ #trav...   \n",
       "10186  ROG || HYDERABAD || 650 TWINS || VIZAG_COLONY ...   \n",
       "10187  #travel #adventure #nature #zipline #mountains...   \n",
       "10188  ACCIDENT on ganga river mirzapur // #trending ...   \n",
       "\n",
       "                    Channel                Channel ID          Published At  \\\n",
       "0               SSC Adda247  UCAyYBPzFioHUxvVZEn4rMJA  2023-06-13T14:20:14Z   \n",
       "1               A&C Mizoram  UCydP2aV8KErUJI2QoO5Bjcw  2020-12-01T07:29:44Z   \n",
       "2                 ahrcpress  UC4oFqK01f4STG5UJ72JAbdw  2016-04-20T09:35:15Z   \n",
       "3         Rojgar with Ankit  UC5H9MzrMkJ5iuN11vV2PLhA  2023-11-07T16:28:07Z   \n",
       "4      Google for Education  UCt84aUC9OG6di8kSdKzEHTQ  2018-08-22T22:30:01Z   \n",
       "...                     ...                       ...                   ...   \n",
       "10184         Steven Daliva  UCkOEEcyoaUu-6nM-fmQ9jMg  2024-03-18T10:35:49Z   \n",
       "10185          Nature savvy  UC0VS45BTHzmoIqR9Ovxhlwg  2024-03-16T16:57:12Z   \n",
       "10186   The_Interceptor_guy  UCBz6JnEN2jKGWLK1b86jUKg  2024-03-18T15:12:40Z   \n",
       "10187     Haseeb Malik ðŸ¤—  UCOTZbz1Hw7ohL5Wkk05x_oQ  2024-03-17T10:58:52Z   \n",
       "10188         Atharva Live7  UCdsJ15JOpVYne4qYxQe7UfQ  2024-03-16T05:13:35Z   \n",
       "\n",
       "                                             Description    Views  Likes  \\\n",
       "0      Art & Culture Top 50 MCQs June 2023 Updated | ...   333581  19539   \n",
       "1               He video hi hmun danga upload phala nilo   603993   5100   \n",
       "2      The debate over the value and impact of arts a...    46954    352   \n",
       "3      Delhi Police 2023 Exam | à¤•à¤²à¤¾ à¤à¤µà¤‚ à...  1659779  86921   \n",
       "4      Curious to learn more about Google Arts & Cult...    14615    136   \n",
       "...                                                  ...      ...    ...   \n",
       "10184                                                NaN     2075     78   \n",
       "10185  @NatureSavvy... \\nAdventures fill your soul\\n#...        4      2   \n",
       "10186  \"Embark on a journey with The_Interceptor_guy ...      415     17   \n",
       "10187                                                NaN     6541    135   \n",
       "10188                                                NaN      473     14   \n",
       "\n",
       "       Comments Duration (Minutes:Seconds)  \\\n",
       "0           686                      13:46   \n",
       "1           433                   56:46:00   \n",
       "2             6                      02:58   \n",
       "3          1718                  155:40:00   \n",
       "4             3                      02:45   \n",
       "...         ...                        ...   \n",
       "10184         2                      00:17   \n",
       "10185         0                      00:12   \n",
       "10186         2                      00:20   \n",
       "10187         0                      00:17   \n",
       "10188         0                      00:07   \n",
       "\n",
       "                                           Tags/Keywords  Subscriber Count  \\\n",
       "0      important art and culture ssc, important art a...           8000000   \n",
       "1                                                    NaN             27900   \n",
       "2      AHRC, Arts and Humanties Research Council, Art...              2880   \n",
       "3      art & culture class, art & culture for ssc chs...          11800000   \n",
       "4      Google Classroom, Chromebook, Google Earth, Go...            466000   \n",
       "...                                                  ...               ...   \n",
       "10184                                                NaN                74   \n",
       "10185                                                NaN                 4   \n",
       "10186                                                NaN                27   \n",
       "10187                                                NaN              1650   \n",
       "10188                                                NaN               411   \n",
       "\n",
       "                                        Thumbnail URL  \n",
       "0      https://i.ytimg.com/vi/6VlO0yJuj_8/default.jpg  \n",
       "1      https://i.ytimg.com/vi/hQ1aYndYgJ4/default.jpg  \n",
       "2      https://i.ytimg.com/vi/hyRpCa9Qv48/default.jpg  \n",
       "3      https://i.ytimg.com/vi/nLU2f3pfCs8/default.jpg  \n",
       "4      https://i.ytimg.com/vi/r3bLtn8DLYo/default.jpg  \n",
       "...                                               ...  \n",
       "10184  https://i.ytimg.com/vi/1GDB6wlSM5w/default.jpg  \n",
       "10185  https://i.ytimg.com/vi/fCK5W-EVnsI/default.jpg  \n",
       "10186  https://i.ytimg.com/vi/Ypm3KWlm0Fw/default.jpg  \n",
       "10187  https://i.ytimg.com/vi/xvsSkBRKu1k/default.jpg  \n",
       "10188  https://i.ytimg.com/vi/kSUBaJ0GkAM/default.jpg  \n",
       "\n",
       "[10189 rows x 14 columns]"
      ]
     },
     "execution_count": 3,
     "metadata": {},
     "output_type": "execute_result"
    }
   ],
   "source": [
    "df"
   ]
  },
  {
   "cell_type": "code",
   "execution_count": 4,
   "id": "91974d53",
   "metadata": {
    "ExecuteTime": {
     "end_time": "2024-03-22T16:10:32.024551Z",
     "start_time": "2024-03-22T16:10:32.018204Z"
    }
   },
   "outputs": [
    {
     "data": {
      "text/plain": [
       "(10189, 14)"
      ]
     },
     "execution_count": 4,
     "metadata": {},
     "output_type": "execute_result"
    }
   ],
   "source": [
    "df.shape"
   ]
  },
  {
   "cell_type": "code",
   "execution_count": 5,
   "id": "76fa456b",
   "metadata": {
    "ExecuteTime": {
     "end_time": "2024-03-22T16:10:32.311208Z",
     "start_time": "2024-03-22T16:10:32.298286Z"
    },
    "scrolled": true
   },
   "outputs": [
    {
     "name": "stdout",
     "output_type": "stream",
     "text": [
      "<class 'pandas.core.frame.DataFrame'>\n",
      "RangeIndex: 10189 entries, 0 to 10188\n",
      "Data columns (total 14 columns):\n",
      " #   Column                      Non-Null Count  Dtype \n",
      "---  ------                      --------------  ----- \n",
      " 0   Category                    10189 non-null  object\n",
      " 1   Video ID                    10189 non-null  object\n",
      " 2   Title                       10189 non-null  object\n",
      " 3   Channel                     10189 non-null  object\n",
      " 4   Channel ID                  10189 non-null  object\n",
      " 5   Published At                10189 non-null  object\n",
      " 6   Description                 8493 non-null   object\n",
      " 7   Views                       10189 non-null  int64 \n",
      " 8   Likes                       10189 non-null  int64 \n",
      " 9   Comments                    10189 non-null  int64 \n",
      " 10  Duration (Minutes:Seconds)  10189 non-null  object\n",
      " 11  Tags/Keywords               7022 non-null   object\n",
      " 12  Subscriber Count            10189 non-null  int64 \n",
      " 13  Thumbnail URL               10189 non-null  object\n",
      "dtypes: int64(4), object(10)\n",
      "memory usage: 1.1+ MB\n"
     ]
    }
   ],
   "source": [
    "df.info()"
   ]
  },
  {
   "cell_type": "code",
   "execution_count": 6,
   "id": "ca18bd58",
   "metadata": {
    "ExecuteTime": {
     "end_time": "2024-03-22T16:10:32.908486Z",
     "start_time": "2024-03-22T16:10:32.900083Z"
    }
   },
   "outputs": [
    {
     "data": {
      "text/plain": [
       "Category                      object\n",
       "Video ID                      object\n",
       "Title                         object\n",
       "Channel                       object\n",
       "Channel ID                    object\n",
       "Published At                  object\n",
       "Description                   object\n",
       "Views                          int64\n",
       "Likes                          int64\n",
       "Comments                       int64\n",
       "Duration (Minutes:Seconds)    object\n",
       "Tags/Keywords                 object\n",
       "Subscriber Count               int64\n",
       "Thumbnail URL                 object\n",
       "dtype: object"
      ]
     },
     "execution_count": 6,
     "metadata": {},
     "output_type": "execute_result"
    }
   ],
   "source": [
    "df.dtypes"
   ]
  },
  {
   "cell_type": "code",
   "execution_count": 7,
   "id": "12d00c69",
   "metadata": {
    "ExecuteTime": {
     "end_time": "2024-03-22T16:10:33.345975Z",
     "start_time": "2024-03-22T16:10:33.335024Z"
    },
    "scrolled": true
   },
   "outputs": [
    {
     "data": {
      "text/plain": [
       "Category                         0\n",
       "Video ID                         0\n",
       "Title                            0\n",
       "Channel                          0\n",
       "Channel ID                       0\n",
       "Published At                     0\n",
       "Description                   1696\n",
       "Views                            0\n",
       "Likes                            0\n",
       "Comments                         0\n",
       "Duration (Minutes:Seconds)       0\n",
       "Tags/Keywords                 3167\n",
       "Subscriber Count                 0\n",
       "Thumbnail URL                    0\n",
       "dtype: int64"
      ]
     },
     "execution_count": 7,
     "metadata": {},
     "output_type": "execute_result"
    }
   ],
   "source": [
    "df.isnull().sum()"
   ]
  },
  {
   "cell_type": "code",
   "execution_count": 8,
   "id": "e96fb17f",
   "metadata": {
    "ExecuteTime": {
     "end_time": "2024-03-22T16:10:33.755997Z",
     "start_time": "2024-03-22T16:10:33.742999Z"
    }
   },
   "outputs": [],
   "source": [
    "df[[\"Published_Date\",\"Published_Time\"]] = df['Published At'].str.split('T',expand=True)"
   ]
  },
  {
   "cell_type": "code",
   "execution_count": 9,
   "id": "b1323a4e",
   "metadata": {
    "ExecuteTime": {
     "end_time": "2024-03-22T16:10:34.210800Z",
     "start_time": "2024-03-22T16:10:34.201748Z"
    }
   },
   "outputs": [],
   "source": [
    "df[\"Published_Time\"] = df['Published_Time'].str.replace(\"Z\",\"\")"
   ]
  },
  {
   "cell_type": "code",
   "execution_count": 10,
   "id": "674d6d17",
   "metadata": {
    "ExecuteTime": {
     "end_time": "2024-03-22T16:10:35.121235Z",
     "start_time": "2024-03-22T16:10:35.094858Z"
    }
   },
   "outputs": [
    {
     "data": {
      "text/html": [
       "<div>\n",
       "<style scoped>\n",
       "    .dataframe tbody tr th:only-of-type {\n",
       "        vertical-align: middle;\n",
       "    }\n",
       "\n",
       "    .dataframe tbody tr th {\n",
       "        vertical-align: top;\n",
       "    }\n",
       "\n",
       "    .dataframe thead th {\n",
       "        text-align: right;\n",
       "    }\n",
       "</style>\n",
       "<table border=\"1\" class=\"dataframe\">\n",
       "  <thead>\n",
       "    <tr style=\"text-align: right;\">\n",
       "      <th></th>\n",
       "      <th>Category</th>\n",
       "      <th>Video ID</th>\n",
       "      <th>Title</th>\n",
       "      <th>Channel</th>\n",
       "      <th>Channel ID</th>\n",
       "      <th>Published At</th>\n",
       "      <th>Description</th>\n",
       "      <th>Views</th>\n",
       "      <th>Likes</th>\n",
       "      <th>Comments</th>\n",
       "      <th>Duration (Minutes:Seconds)</th>\n",
       "      <th>Tags/Keywords</th>\n",
       "      <th>Subscriber Count</th>\n",
       "      <th>Thumbnail URL</th>\n",
       "      <th>Published_Date</th>\n",
       "      <th>Published_Time</th>\n",
       "    </tr>\n",
       "  </thead>\n",
       "  <tbody>\n",
       "    <tr>\n",
       "      <th>0</th>\n",
       "      <td>Arts &amp; Culture</td>\n",
       "      <td>6VlO0yJuj_8</td>\n",
       "      <td>Art &amp; Culture Top 50 MCQs June 2023 Updated | ...</td>\n",
       "      <td>SSC Adda247</td>\n",
       "      <td>UCAyYBPzFioHUxvVZEn4rMJA</td>\n",
       "      <td>2023-06-13T14:20:14Z</td>\n",
       "      <td>Art &amp; Culture Top 50 MCQs June 2023 Updated | ...</td>\n",
       "      <td>333581</td>\n",
       "      <td>19539</td>\n",
       "      <td>686</td>\n",
       "      <td>13:46</td>\n",
       "      <td>important art and culture ssc, important art a...</td>\n",
       "      <td>8000000</td>\n",
       "      <td>https://i.ytimg.com/vi/6VlO0yJuj_8/default.jpg</td>\n",
       "      <td>2023-06-13</td>\n",
       "      <td>14:20:14</td>\n",
       "    </tr>\n",
       "    <tr>\n",
       "      <th>1</th>\n",
       "      <td>Arts &amp; Culture</td>\n",
       "      <td>hQ1aYndYgJ4</td>\n",
       "      <td>ART &amp; CULTURE DEPARTMENT ZAIPAWL VOL-1, disc 3</td>\n",
       "      <td>A&amp;C Mizoram</td>\n",
       "      <td>UCydP2aV8KErUJI2QoO5Bjcw</td>\n",
       "      <td>2020-12-01T07:29:44Z</td>\n",
       "      <td>He video hi hmun danga upload phala nilo</td>\n",
       "      <td>603993</td>\n",
       "      <td>5100</td>\n",
       "      <td>433</td>\n",
       "      <td>56:46:00</td>\n",
       "      <td>NaN</td>\n",
       "      <td>27900</td>\n",
       "      <td>https://i.ytimg.com/vi/hQ1aYndYgJ4/default.jpg</td>\n",
       "      <td>2020-12-01</td>\n",
       "      <td>07:29:44</td>\n",
       "    </tr>\n",
       "    <tr>\n",
       "      <th>2</th>\n",
       "      <td>Arts &amp; Culture</td>\n",
       "      <td>hyRpCa9Qv48</td>\n",
       "      <td>Understanding the Value of Arts and Culture | ...</td>\n",
       "      <td>ahrcpress</td>\n",
       "      <td>UC4oFqK01f4STG5UJ72JAbdw</td>\n",
       "      <td>2016-04-20T09:35:15Z</td>\n",
       "      <td>The debate over the value and impact of arts a...</td>\n",
       "      <td>46954</td>\n",
       "      <td>352</td>\n",
       "      <td>6</td>\n",
       "      <td>02:58</td>\n",
       "      <td>AHRC, Arts and Humanties Research Council, Art...</td>\n",
       "      <td>2880</td>\n",
       "      <td>https://i.ytimg.com/vi/hyRpCa9Qv48/default.jpg</td>\n",
       "      <td>2016-04-20</td>\n",
       "      <td>09:35:15</td>\n",
       "    </tr>\n",
       "    <tr>\n",
       "      <th>3</th>\n",
       "      <td>Arts &amp; Culture</td>\n",
       "      <td>nLU2f3pfCs8</td>\n",
       "      <td>Delhi Police 2023 Exam | à¤•à¤²à¤¾ à¤à¤µà¤‚ à...</td>\n",
       "      <td>Rojgar with Ankit</td>\n",
       "      <td>UC5H9MzrMkJ5iuN11vV2PLhA</td>\n",
       "      <td>2023-11-07T16:28:07Z</td>\n",
       "      <td>Delhi Police 2023 Exam | à¤•à¤²à¤¾ à¤à¤µà¤‚ à...</td>\n",
       "      <td>1659779</td>\n",
       "      <td>86921</td>\n",
       "      <td>1718</td>\n",
       "      <td>155:40:00</td>\n",
       "      <td>art &amp; culture class, art &amp; culture for ssc chs...</td>\n",
       "      <td>11800000</td>\n",
       "      <td>https://i.ytimg.com/vi/nLU2f3pfCs8/default.jpg</td>\n",
       "      <td>2023-11-07</td>\n",
       "      <td>16:28:07</td>\n",
       "    </tr>\n",
       "    <tr>\n",
       "      <th>4</th>\n",
       "      <td>Arts &amp; Culture</td>\n",
       "      <td>r3bLtn8DLYo</td>\n",
       "      <td>EDU in 90: Google Arts &amp; Culture</td>\n",
       "      <td>Google for Education</td>\n",
       "      <td>UCt84aUC9OG6di8kSdKzEHTQ</td>\n",
       "      <td>2018-08-22T22:30:01Z</td>\n",
       "      <td>Curious to learn more about Google Arts &amp; Cult...</td>\n",
       "      <td>14615</td>\n",
       "      <td>136</td>\n",
       "      <td>3</td>\n",
       "      <td>02:45</td>\n",
       "      <td>Google Classroom, Chromebook, Google Earth, Go...</td>\n",
       "      <td>466000</td>\n",
       "      <td>https://i.ytimg.com/vi/r3bLtn8DLYo/default.jpg</td>\n",
       "      <td>2018-08-22</td>\n",
       "      <td>22:30:01</td>\n",
       "    </tr>\n",
       "    <tr>\n",
       "      <th>...</th>\n",
       "      <td>...</td>\n",
       "      <td>...</td>\n",
       "      <td>...</td>\n",
       "      <td>...</td>\n",
       "      <td>...</td>\n",
       "      <td>...</td>\n",
       "      <td>...</td>\n",
       "      <td>...</td>\n",
       "      <td>...</td>\n",
       "      <td>...</td>\n",
       "      <td>...</td>\n",
       "      <td>...</td>\n",
       "      <td>...</td>\n",
       "      <td>...</td>\n",
       "      <td>...</td>\n",
       "      <td>...</td>\n",
       "    </tr>\n",
       "    <tr>\n",
       "      <th>10184</th>\n",
       "      <td>Travel &amp; Adventure</td>\n",
       "      <td>UCkOEEcyoaUu-6nM-fmQ9jMg</td>\n",
       "      <td>Always choosing this â˜€ï¸ðŸï¸ #Travel #Ad...</td>\n",
       "      <td>Steven Daliva</td>\n",
       "      <td>UCkOEEcyoaUu-6nM-fmQ9jMg</td>\n",
       "      <td>2024-03-18T10:35:49Z</td>\n",
       "      <td>NaN</td>\n",
       "      <td>2075</td>\n",
       "      <td>78</td>\n",
       "      <td>2</td>\n",
       "      <td>00:17</td>\n",
       "      <td>NaN</td>\n",
       "      <td>74</td>\n",
       "      <td>https://i.ytimg.com/vi/1GDB6wlSM5w/default.jpg</td>\n",
       "      <td>2024-03-18</td>\n",
       "      <td>10:35:49</td>\n",
       "    </tr>\n",
       "    <tr>\n",
       "      <th>10185</th>\n",
       "      <td>Travel &amp; Adventure</td>\n",
       "      <td>UC0VS45BTHzmoIqR9Ovxhlwg</td>\n",
       "      <td>Adventures fill your soul ðŸª‚ðŸ’ªâ¤ï¸ #trav...</td>\n",
       "      <td>Nature savvy</td>\n",
       "      <td>UC0VS45BTHzmoIqR9Ovxhlwg</td>\n",
       "      <td>2024-03-16T16:57:12Z</td>\n",
       "      <td>@NatureSavvy... \\nAdventures fill your soul\\n#...</td>\n",
       "      <td>4</td>\n",
       "      <td>2</td>\n",
       "      <td>0</td>\n",
       "      <td>00:12</td>\n",
       "      <td>NaN</td>\n",
       "      <td>4</td>\n",
       "      <td>https://i.ytimg.com/vi/fCK5W-EVnsI/default.jpg</td>\n",
       "      <td>2024-03-16</td>\n",
       "      <td>16:57:12</td>\n",
       "    </tr>\n",
       "    <tr>\n",
       "      <th>10186</th>\n",
       "      <td>Travel &amp; Adventure</td>\n",
       "      <td>UCBz6JnEN2jKGWLK1b86jUKg</td>\n",
       "      <td>ROG || HYDERABAD || 650 TWINS || VIZAG_COLONY ...</td>\n",
       "      <td>The_Interceptor_guy</td>\n",
       "      <td>UCBz6JnEN2jKGWLK1b86jUKg</td>\n",
       "      <td>2024-03-18T15:12:40Z</td>\n",
       "      <td>\"Embark on a journey with The_Interceptor_guy ...</td>\n",
       "      <td>415</td>\n",
       "      <td>17</td>\n",
       "      <td>2</td>\n",
       "      <td>00:20</td>\n",
       "      <td>NaN</td>\n",
       "      <td>27</td>\n",
       "      <td>https://i.ytimg.com/vi/Ypm3KWlm0Fw/default.jpg</td>\n",
       "      <td>2024-03-18</td>\n",
       "      <td>15:12:40</td>\n",
       "    </tr>\n",
       "    <tr>\n",
       "      <th>10187</th>\n",
       "      <td>Travel &amp; Adventure</td>\n",
       "      <td>UCOTZbz1Hw7ohL5Wkk05x_oQ</td>\n",
       "      <td>#travel #adventure #nature #zipline #mountains...</td>\n",
       "      <td>Haseeb Malik ðŸ¤—</td>\n",
       "      <td>UCOTZbz1Hw7ohL5Wkk05x_oQ</td>\n",
       "      <td>2024-03-17T10:58:52Z</td>\n",
       "      <td>NaN</td>\n",
       "      <td>6541</td>\n",
       "      <td>135</td>\n",
       "      <td>0</td>\n",
       "      <td>00:17</td>\n",
       "      <td>NaN</td>\n",
       "      <td>1650</td>\n",
       "      <td>https://i.ytimg.com/vi/xvsSkBRKu1k/default.jpg</td>\n",
       "      <td>2024-03-17</td>\n",
       "      <td>10:58:52</td>\n",
       "    </tr>\n",
       "    <tr>\n",
       "      <th>10188</th>\n",
       "      <td>Travel &amp; Adventure</td>\n",
       "      <td>UCdsJ15JOpVYne4qYxQe7UfQ</td>\n",
       "      <td>ACCIDENT on ganga river mirzapur // #trending ...</td>\n",
       "      <td>Atharva Live7</td>\n",
       "      <td>UCdsJ15JOpVYne4qYxQe7UfQ</td>\n",
       "      <td>2024-03-16T05:13:35Z</td>\n",
       "      <td>NaN</td>\n",
       "      <td>473</td>\n",
       "      <td>14</td>\n",
       "      <td>0</td>\n",
       "      <td>00:07</td>\n",
       "      <td>NaN</td>\n",
       "      <td>411</td>\n",
       "      <td>https://i.ytimg.com/vi/kSUBaJ0GkAM/default.jpg</td>\n",
       "      <td>2024-03-16</td>\n",
       "      <td>05:13:35</td>\n",
       "    </tr>\n",
       "  </tbody>\n",
       "</table>\n",
       "<p>10189 rows × 16 columns</p>\n",
       "</div>"
      ],
      "text/plain": [
       "                 Category                  Video ID  \\\n",
       "0          Arts & Culture               6VlO0yJuj_8   \n",
       "1          Arts & Culture               hQ1aYndYgJ4   \n",
       "2          Arts & Culture               hyRpCa9Qv48   \n",
       "3          Arts & Culture               nLU2f3pfCs8   \n",
       "4          Arts & Culture               r3bLtn8DLYo   \n",
       "...                   ...                       ...   \n",
       "10184  Travel & Adventure  UCkOEEcyoaUu-6nM-fmQ9jMg   \n",
       "10185  Travel & Adventure  UC0VS45BTHzmoIqR9Ovxhlwg   \n",
       "10186  Travel & Adventure  UCBz6JnEN2jKGWLK1b86jUKg   \n",
       "10187  Travel & Adventure  UCOTZbz1Hw7ohL5Wkk05x_oQ   \n",
       "10188  Travel & Adventure  UCdsJ15JOpVYne4qYxQe7UfQ   \n",
       "\n",
       "                                                   Title  \\\n",
       "0      Art & Culture Top 50 MCQs June 2023 Updated | ...   \n",
       "1         ART & CULTURE DEPARTMENT ZAIPAWL VOL-1, disc 3   \n",
       "2      Understanding the Value of Arts and Culture | ...   \n",
       "3      Delhi Police 2023 Exam | à¤•à¤²à¤¾ à¤à¤µà¤‚ à...   \n",
       "4                       EDU in 90: Google Arts & Culture   \n",
       "...                                                  ...   \n",
       "10184  Always choosing this â˜€ï¸ðŸï¸ #Travel #Ad...   \n",
       "10185  Adventures fill your soul ðŸª‚ðŸ’ªâ¤ï¸ #trav...   \n",
       "10186  ROG || HYDERABAD || 650 TWINS || VIZAG_COLONY ...   \n",
       "10187  #travel #adventure #nature #zipline #mountains...   \n",
       "10188  ACCIDENT on ganga river mirzapur // #trending ...   \n",
       "\n",
       "                    Channel                Channel ID          Published At  \\\n",
       "0               SSC Adda247  UCAyYBPzFioHUxvVZEn4rMJA  2023-06-13T14:20:14Z   \n",
       "1               A&C Mizoram  UCydP2aV8KErUJI2QoO5Bjcw  2020-12-01T07:29:44Z   \n",
       "2                 ahrcpress  UC4oFqK01f4STG5UJ72JAbdw  2016-04-20T09:35:15Z   \n",
       "3         Rojgar with Ankit  UC5H9MzrMkJ5iuN11vV2PLhA  2023-11-07T16:28:07Z   \n",
       "4      Google for Education  UCt84aUC9OG6di8kSdKzEHTQ  2018-08-22T22:30:01Z   \n",
       "...                     ...                       ...                   ...   \n",
       "10184         Steven Daliva  UCkOEEcyoaUu-6nM-fmQ9jMg  2024-03-18T10:35:49Z   \n",
       "10185          Nature savvy  UC0VS45BTHzmoIqR9Ovxhlwg  2024-03-16T16:57:12Z   \n",
       "10186   The_Interceptor_guy  UCBz6JnEN2jKGWLK1b86jUKg  2024-03-18T15:12:40Z   \n",
       "10187     Haseeb Malik ðŸ¤—  UCOTZbz1Hw7ohL5Wkk05x_oQ  2024-03-17T10:58:52Z   \n",
       "10188         Atharva Live7  UCdsJ15JOpVYne4qYxQe7UfQ  2024-03-16T05:13:35Z   \n",
       "\n",
       "                                             Description    Views  Likes  \\\n",
       "0      Art & Culture Top 50 MCQs June 2023 Updated | ...   333581  19539   \n",
       "1               He video hi hmun danga upload phala nilo   603993   5100   \n",
       "2      The debate over the value and impact of arts a...    46954    352   \n",
       "3      Delhi Police 2023 Exam | à¤•à¤²à¤¾ à¤à¤µà¤‚ à...  1659779  86921   \n",
       "4      Curious to learn more about Google Arts & Cult...    14615    136   \n",
       "...                                                  ...      ...    ...   \n",
       "10184                                                NaN     2075     78   \n",
       "10185  @NatureSavvy... \\nAdventures fill your soul\\n#...        4      2   \n",
       "10186  \"Embark on a journey with The_Interceptor_guy ...      415     17   \n",
       "10187                                                NaN     6541    135   \n",
       "10188                                                NaN      473     14   \n",
       "\n",
       "       Comments Duration (Minutes:Seconds)  \\\n",
       "0           686                      13:46   \n",
       "1           433                   56:46:00   \n",
       "2             6                      02:58   \n",
       "3          1718                  155:40:00   \n",
       "4             3                      02:45   \n",
       "...         ...                        ...   \n",
       "10184         2                      00:17   \n",
       "10185         0                      00:12   \n",
       "10186         2                      00:20   \n",
       "10187         0                      00:17   \n",
       "10188         0                      00:07   \n",
       "\n",
       "                                           Tags/Keywords  Subscriber Count  \\\n",
       "0      important art and culture ssc, important art a...           8000000   \n",
       "1                                                    NaN             27900   \n",
       "2      AHRC, Arts and Humanties Research Council, Art...              2880   \n",
       "3      art & culture class, art & culture for ssc chs...          11800000   \n",
       "4      Google Classroom, Chromebook, Google Earth, Go...            466000   \n",
       "...                                                  ...               ...   \n",
       "10184                                                NaN                74   \n",
       "10185                                                NaN                 4   \n",
       "10186                                                NaN                27   \n",
       "10187                                                NaN              1650   \n",
       "10188                                                NaN               411   \n",
       "\n",
       "                                        Thumbnail URL Published_Date  \\\n",
       "0      https://i.ytimg.com/vi/6VlO0yJuj_8/default.jpg     2023-06-13   \n",
       "1      https://i.ytimg.com/vi/hQ1aYndYgJ4/default.jpg     2020-12-01   \n",
       "2      https://i.ytimg.com/vi/hyRpCa9Qv48/default.jpg     2016-04-20   \n",
       "3      https://i.ytimg.com/vi/nLU2f3pfCs8/default.jpg     2023-11-07   \n",
       "4      https://i.ytimg.com/vi/r3bLtn8DLYo/default.jpg     2018-08-22   \n",
       "...                                               ...            ...   \n",
       "10184  https://i.ytimg.com/vi/1GDB6wlSM5w/default.jpg     2024-03-18   \n",
       "10185  https://i.ytimg.com/vi/fCK5W-EVnsI/default.jpg     2024-03-16   \n",
       "10186  https://i.ytimg.com/vi/Ypm3KWlm0Fw/default.jpg     2024-03-18   \n",
       "10187  https://i.ytimg.com/vi/xvsSkBRKu1k/default.jpg     2024-03-17   \n",
       "10188  https://i.ytimg.com/vi/kSUBaJ0GkAM/default.jpg     2024-03-16   \n",
       "\n",
       "      Published_Time  \n",
       "0           14:20:14  \n",
       "1           07:29:44  \n",
       "2           09:35:15  \n",
       "3           16:28:07  \n",
       "4           22:30:01  \n",
       "...              ...  \n",
       "10184       10:35:49  \n",
       "10185       16:57:12  \n",
       "10186       15:12:40  \n",
       "10187       10:58:52  \n",
       "10188       05:13:35  \n",
       "\n",
       "[10189 rows x 16 columns]"
      ]
     },
     "execution_count": 10,
     "metadata": {},
     "output_type": "execute_result"
    }
   ],
   "source": [
    "df"
   ]
  },
  {
   "cell_type": "code",
   "execution_count": 11,
   "id": "2d3a4de9",
   "metadata": {
    "ExecuteTime": {
     "end_time": "2024-03-22T16:10:35.662208Z",
     "start_time": "2024-03-22T16:10:35.654843Z"
    }
   },
   "outputs": [],
   "source": [
    "columns_to_drop = [\"Published At\",\"Description\",\"Tags/Keywords\",\"Thumbnail URL\"]\n",
    "df.drop(columns=columns_to_drop,inplace=True)"
   ]
  },
  {
   "cell_type": "code",
   "execution_count": 12,
   "id": "be1bd853",
   "metadata": {
    "ExecuteTime": {
     "end_time": "2024-03-22T16:10:36.577130Z",
     "start_time": "2024-03-22T16:10:36.561356Z"
    },
    "scrolled": true
   },
   "outputs": [
    {
     "data": {
      "text/html": [
       "<div>\n",
       "<style scoped>\n",
       "    .dataframe tbody tr th:only-of-type {\n",
       "        vertical-align: middle;\n",
       "    }\n",
       "\n",
       "    .dataframe tbody tr th {\n",
       "        vertical-align: top;\n",
       "    }\n",
       "\n",
       "    .dataframe thead th {\n",
       "        text-align: right;\n",
       "    }\n",
       "</style>\n",
       "<table border=\"1\" class=\"dataframe\">\n",
       "  <thead>\n",
       "    <tr style=\"text-align: right;\">\n",
       "      <th></th>\n",
       "      <th>Category</th>\n",
       "      <th>Video ID</th>\n",
       "      <th>Title</th>\n",
       "      <th>Channel</th>\n",
       "      <th>Channel ID</th>\n",
       "      <th>Views</th>\n",
       "      <th>Likes</th>\n",
       "      <th>Comments</th>\n",
       "      <th>Duration (Minutes:Seconds)</th>\n",
       "      <th>Subscriber Count</th>\n",
       "      <th>Published_Date</th>\n",
       "      <th>Published_Time</th>\n",
       "    </tr>\n",
       "  </thead>\n",
       "  <tbody>\n",
       "    <tr>\n",
       "      <th>0</th>\n",
       "      <td>Arts &amp; Culture</td>\n",
       "      <td>6VlO0yJuj_8</td>\n",
       "      <td>Art &amp; Culture Top 50 MCQs June 2023 Updated | ...</td>\n",
       "      <td>SSC Adda247</td>\n",
       "      <td>UCAyYBPzFioHUxvVZEn4rMJA</td>\n",
       "      <td>333581</td>\n",
       "      <td>19539</td>\n",
       "      <td>686</td>\n",
       "      <td>13:46</td>\n",
       "      <td>8000000</td>\n",
       "      <td>2023-06-13</td>\n",
       "      <td>14:20:14</td>\n",
       "    </tr>\n",
       "    <tr>\n",
       "      <th>1</th>\n",
       "      <td>Arts &amp; Culture</td>\n",
       "      <td>hQ1aYndYgJ4</td>\n",
       "      <td>ART &amp; CULTURE DEPARTMENT ZAIPAWL VOL-1, disc 3</td>\n",
       "      <td>A&amp;C Mizoram</td>\n",
       "      <td>UCydP2aV8KErUJI2QoO5Bjcw</td>\n",
       "      <td>603993</td>\n",
       "      <td>5100</td>\n",
       "      <td>433</td>\n",
       "      <td>56:46:00</td>\n",
       "      <td>27900</td>\n",
       "      <td>2020-12-01</td>\n",
       "      <td>07:29:44</td>\n",
       "    </tr>\n",
       "    <tr>\n",
       "      <th>2</th>\n",
       "      <td>Arts &amp; Culture</td>\n",
       "      <td>hyRpCa9Qv48</td>\n",
       "      <td>Understanding the Value of Arts and Culture | ...</td>\n",
       "      <td>ahrcpress</td>\n",
       "      <td>UC4oFqK01f4STG5UJ72JAbdw</td>\n",
       "      <td>46954</td>\n",
       "      <td>352</td>\n",
       "      <td>6</td>\n",
       "      <td>02:58</td>\n",
       "      <td>2880</td>\n",
       "      <td>2016-04-20</td>\n",
       "      <td>09:35:15</td>\n",
       "    </tr>\n",
       "    <tr>\n",
       "      <th>3</th>\n",
       "      <td>Arts &amp; Culture</td>\n",
       "      <td>nLU2f3pfCs8</td>\n",
       "      <td>Delhi Police 2023 Exam | à¤•à¤²à¤¾ à¤à¤µà¤‚ à...</td>\n",
       "      <td>Rojgar with Ankit</td>\n",
       "      <td>UC5H9MzrMkJ5iuN11vV2PLhA</td>\n",
       "      <td>1659779</td>\n",
       "      <td>86921</td>\n",
       "      <td>1718</td>\n",
       "      <td>155:40:00</td>\n",
       "      <td>11800000</td>\n",
       "      <td>2023-11-07</td>\n",
       "      <td>16:28:07</td>\n",
       "    </tr>\n",
       "    <tr>\n",
       "      <th>4</th>\n",
       "      <td>Arts &amp; Culture</td>\n",
       "      <td>r3bLtn8DLYo</td>\n",
       "      <td>EDU in 90: Google Arts &amp; Culture</td>\n",
       "      <td>Google for Education</td>\n",
       "      <td>UCt84aUC9OG6di8kSdKzEHTQ</td>\n",
       "      <td>14615</td>\n",
       "      <td>136</td>\n",
       "      <td>3</td>\n",
       "      <td>02:45</td>\n",
       "      <td>466000</td>\n",
       "      <td>2018-08-22</td>\n",
       "      <td>22:30:01</td>\n",
       "    </tr>\n",
       "  </tbody>\n",
       "</table>\n",
       "</div>"
      ],
      "text/plain": [
       "         Category     Video ID  \\\n",
       "0  Arts & Culture  6VlO0yJuj_8   \n",
       "1  Arts & Culture  hQ1aYndYgJ4   \n",
       "2  Arts & Culture  hyRpCa9Qv48   \n",
       "3  Arts & Culture  nLU2f3pfCs8   \n",
       "4  Arts & Culture  r3bLtn8DLYo   \n",
       "\n",
       "                                               Title               Channel  \\\n",
       "0  Art & Culture Top 50 MCQs June 2023 Updated | ...           SSC Adda247   \n",
       "1     ART & CULTURE DEPARTMENT ZAIPAWL VOL-1, disc 3           A&C Mizoram   \n",
       "2  Understanding the Value of Arts and Culture | ...             ahrcpress   \n",
       "3  Delhi Police 2023 Exam | à¤•à¤²à¤¾ à¤à¤µà¤‚ à...     Rojgar with Ankit   \n",
       "4                   EDU in 90: Google Arts & Culture  Google for Education   \n",
       "\n",
       "                 Channel ID    Views  Likes  Comments  \\\n",
       "0  UCAyYBPzFioHUxvVZEn4rMJA   333581  19539       686   \n",
       "1  UCydP2aV8KErUJI2QoO5Bjcw   603993   5100       433   \n",
       "2  UC4oFqK01f4STG5UJ72JAbdw    46954    352         6   \n",
       "3  UC5H9MzrMkJ5iuN11vV2PLhA  1659779  86921      1718   \n",
       "4  UCt84aUC9OG6di8kSdKzEHTQ    14615    136         3   \n",
       "\n",
       "  Duration (Minutes:Seconds)  Subscriber Count Published_Date Published_Time  \n",
       "0                      13:46           8000000     2023-06-13       14:20:14  \n",
       "1                   56:46:00             27900     2020-12-01       07:29:44  \n",
       "2                      02:58              2880     2016-04-20       09:35:15  \n",
       "3                  155:40:00          11800000     2023-11-07       16:28:07  \n",
       "4                      02:45            466000     2018-08-22       22:30:01  "
      ]
     },
     "execution_count": 12,
     "metadata": {},
     "output_type": "execute_result"
    }
   ],
   "source": [
    "df.head(5)"
   ]
  },
  {
   "cell_type": "code",
   "execution_count": 13,
   "id": "fd8faba0",
   "metadata": {
    "ExecuteTime": {
     "end_time": "2024-03-22T16:10:37.099574Z",
     "start_time": "2024-03-22T16:10:37.086307Z"
    }
   },
   "outputs": [
    {
     "data": {
      "text/plain": [
       "Category                       0\n",
       "Video ID                       0\n",
       "Title                          0\n",
       "Channel                        0\n",
       "Channel ID                     0\n",
       "Views                          0\n",
       "Likes                          0\n",
       "Comments                       0\n",
       "Duration (Minutes:Seconds)     0\n",
       "Subscriber Count               0\n",
       "Published_Date                 0\n",
       "Published_Time                50\n",
       "dtype: int64"
      ]
     },
     "execution_count": 13,
     "metadata": {},
     "output_type": "execute_result"
    }
   ],
   "source": [
    "df.isnull().sum()"
   ]
  },
  {
   "cell_type": "code",
   "execution_count": 14,
   "id": "f4e50211",
   "metadata": {
    "ExecuteTime": {
     "end_time": "2024-03-22T16:10:37.857243Z",
     "start_time": "2024-03-22T16:10:37.824958Z"
    }
   },
   "outputs": [
    {
     "data": {
      "text/html": [
       "<div>\n",
       "<style scoped>\n",
       "    .dataframe tbody tr th:only-of-type {\n",
       "        vertical-align: middle;\n",
       "    }\n",
       "\n",
       "    .dataframe tbody tr th {\n",
       "        vertical-align: top;\n",
       "    }\n",
       "\n",
       "    .dataframe thead th {\n",
       "        text-align: right;\n",
       "    }\n",
       "</style>\n",
       "<table border=\"1\" class=\"dataframe\">\n",
       "  <thead>\n",
       "    <tr style=\"text-align: right;\">\n",
       "      <th></th>\n",
       "      <th>Category</th>\n",
       "      <th>Video ID</th>\n",
       "      <th>Title</th>\n",
       "      <th>Channel</th>\n",
       "      <th>Channel ID</th>\n",
       "      <th>Views</th>\n",
       "      <th>Likes</th>\n",
       "      <th>Comments</th>\n",
       "      <th>Duration (Minutes:Seconds)</th>\n",
       "      <th>Subscriber Count</th>\n",
       "      <th>Published_Date</th>\n",
       "      <th>Published_Time</th>\n",
       "    </tr>\n",
       "  </thead>\n",
       "  <tbody>\n",
       "    <tr>\n",
       "      <th>0</th>\n",
       "      <td>Arts &amp; Culture</td>\n",
       "      <td>6VlO0yJuj_8</td>\n",
       "      <td>Art &amp; Culture Top 50 MCQs June 2023 Updated | ...</td>\n",
       "      <td>SSC Adda247</td>\n",
       "      <td>UCAyYBPzFioHUxvVZEn4rMJA</td>\n",
       "      <td>333581</td>\n",
       "      <td>19539</td>\n",
       "      <td>686</td>\n",
       "      <td>13:46</td>\n",
       "      <td>8000000</td>\n",
       "      <td>2023-06-13</td>\n",
       "      <td>14:20:14</td>\n",
       "    </tr>\n",
       "    <tr>\n",
       "      <th>1</th>\n",
       "      <td>Arts &amp; Culture</td>\n",
       "      <td>hQ1aYndYgJ4</td>\n",
       "      <td>ART &amp; CULTURE DEPARTMENT ZAIPAWL VOL-1, disc 3</td>\n",
       "      <td>A&amp;C Mizoram</td>\n",
       "      <td>UCydP2aV8KErUJI2QoO5Bjcw</td>\n",
       "      <td>603993</td>\n",
       "      <td>5100</td>\n",
       "      <td>433</td>\n",
       "      <td>56:46:00</td>\n",
       "      <td>27900</td>\n",
       "      <td>2020-12-01</td>\n",
       "      <td>07:29:44</td>\n",
       "    </tr>\n",
       "    <tr>\n",
       "      <th>2</th>\n",
       "      <td>Arts &amp; Culture</td>\n",
       "      <td>hyRpCa9Qv48</td>\n",
       "      <td>Understanding the Value of Arts and Culture | ...</td>\n",
       "      <td>ahrcpress</td>\n",
       "      <td>UC4oFqK01f4STG5UJ72JAbdw</td>\n",
       "      <td>46954</td>\n",
       "      <td>352</td>\n",
       "      <td>6</td>\n",
       "      <td>02:58</td>\n",
       "      <td>2880</td>\n",
       "      <td>2016-04-20</td>\n",
       "      <td>09:35:15</td>\n",
       "    </tr>\n",
       "    <tr>\n",
       "      <th>3</th>\n",
       "      <td>Arts &amp; Culture</td>\n",
       "      <td>nLU2f3pfCs8</td>\n",
       "      <td>Delhi Police 2023 Exam | à¤•à¤²à¤¾ à¤à¤µà¤‚ à...</td>\n",
       "      <td>Rojgar with Ankit</td>\n",
       "      <td>UC5H9MzrMkJ5iuN11vV2PLhA</td>\n",
       "      <td>1659779</td>\n",
       "      <td>86921</td>\n",
       "      <td>1718</td>\n",
       "      <td>155:40:00</td>\n",
       "      <td>11800000</td>\n",
       "      <td>2023-11-07</td>\n",
       "      <td>16:28:07</td>\n",
       "    </tr>\n",
       "    <tr>\n",
       "      <th>4</th>\n",
       "      <td>Arts &amp; Culture</td>\n",
       "      <td>r3bLtn8DLYo</td>\n",
       "      <td>EDU in 90: Google Arts &amp; Culture</td>\n",
       "      <td>Google for Education</td>\n",
       "      <td>UCt84aUC9OG6di8kSdKzEHTQ</td>\n",
       "      <td>14615</td>\n",
       "      <td>136</td>\n",
       "      <td>3</td>\n",
       "      <td>02:45</td>\n",
       "      <td>466000</td>\n",
       "      <td>2018-08-22</td>\n",
       "      <td>22:30:01</td>\n",
       "    </tr>\n",
       "    <tr>\n",
       "      <th>...</th>\n",
       "      <td>...</td>\n",
       "      <td>...</td>\n",
       "      <td>...</td>\n",
       "      <td>...</td>\n",
       "      <td>...</td>\n",
       "      <td>...</td>\n",
       "      <td>...</td>\n",
       "      <td>...</td>\n",
       "      <td>...</td>\n",
       "      <td>...</td>\n",
       "      <td>...</td>\n",
       "      <td>...</td>\n",
       "    </tr>\n",
       "    <tr>\n",
       "      <th>10184</th>\n",
       "      <td>Travel &amp; Adventure</td>\n",
       "      <td>UCkOEEcyoaUu-6nM-fmQ9jMg</td>\n",
       "      <td>Always choosing this â˜€ï¸ðŸï¸ #Travel #Ad...</td>\n",
       "      <td>Steven Daliva</td>\n",
       "      <td>UCkOEEcyoaUu-6nM-fmQ9jMg</td>\n",
       "      <td>2075</td>\n",
       "      <td>78</td>\n",
       "      <td>2</td>\n",
       "      <td>00:17</td>\n",
       "      <td>74</td>\n",
       "      <td>2024-03-18</td>\n",
       "      <td>10:35:49</td>\n",
       "    </tr>\n",
       "    <tr>\n",
       "      <th>10185</th>\n",
       "      <td>Travel &amp; Adventure</td>\n",
       "      <td>UC0VS45BTHzmoIqR9Ovxhlwg</td>\n",
       "      <td>Adventures fill your soul ðŸª‚ðŸ’ªâ¤ï¸ #trav...</td>\n",
       "      <td>Nature savvy</td>\n",
       "      <td>UC0VS45BTHzmoIqR9Ovxhlwg</td>\n",
       "      <td>4</td>\n",
       "      <td>2</td>\n",
       "      <td>0</td>\n",
       "      <td>00:12</td>\n",
       "      <td>4</td>\n",
       "      <td>2024-03-16</td>\n",
       "      <td>16:57:12</td>\n",
       "    </tr>\n",
       "    <tr>\n",
       "      <th>10186</th>\n",
       "      <td>Travel &amp; Adventure</td>\n",
       "      <td>UCBz6JnEN2jKGWLK1b86jUKg</td>\n",
       "      <td>ROG || HYDERABAD || 650 TWINS || VIZAG_COLONY ...</td>\n",
       "      <td>The_Interceptor_guy</td>\n",
       "      <td>UCBz6JnEN2jKGWLK1b86jUKg</td>\n",
       "      <td>415</td>\n",
       "      <td>17</td>\n",
       "      <td>2</td>\n",
       "      <td>00:20</td>\n",
       "      <td>27</td>\n",
       "      <td>2024-03-18</td>\n",
       "      <td>15:12:40</td>\n",
       "    </tr>\n",
       "    <tr>\n",
       "      <th>10187</th>\n",
       "      <td>Travel &amp; Adventure</td>\n",
       "      <td>UCOTZbz1Hw7ohL5Wkk05x_oQ</td>\n",
       "      <td>#travel #adventure #nature #zipline #mountains...</td>\n",
       "      <td>Haseeb Malik ðŸ¤—</td>\n",
       "      <td>UCOTZbz1Hw7ohL5Wkk05x_oQ</td>\n",
       "      <td>6541</td>\n",
       "      <td>135</td>\n",
       "      <td>0</td>\n",
       "      <td>00:17</td>\n",
       "      <td>1650</td>\n",
       "      <td>2024-03-17</td>\n",
       "      <td>10:58:52</td>\n",
       "    </tr>\n",
       "    <tr>\n",
       "      <th>10188</th>\n",
       "      <td>Travel &amp; Adventure</td>\n",
       "      <td>UCdsJ15JOpVYne4qYxQe7UfQ</td>\n",
       "      <td>ACCIDENT on ganga river mirzapur // #trending ...</td>\n",
       "      <td>Atharva Live7</td>\n",
       "      <td>UCdsJ15JOpVYne4qYxQe7UfQ</td>\n",
       "      <td>473</td>\n",
       "      <td>14</td>\n",
       "      <td>0</td>\n",
       "      <td>00:07</td>\n",
       "      <td>411</td>\n",
       "      <td>2024-03-16</td>\n",
       "      <td>05:13:35</td>\n",
       "    </tr>\n",
       "  </tbody>\n",
       "</table>\n",
       "<p>10139 rows × 12 columns</p>\n",
       "</div>"
      ],
      "text/plain": [
       "                 Category                  Video ID  \\\n",
       "0          Arts & Culture               6VlO0yJuj_8   \n",
       "1          Arts & Culture               hQ1aYndYgJ4   \n",
       "2          Arts & Culture               hyRpCa9Qv48   \n",
       "3          Arts & Culture               nLU2f3pfCs8   \n",
       "4          Arts & Culture               r3bLtn8DLYo   \n",
       "...                   ...                       ...   \n",
       "10184  Travel & Adventure  UCkOEEcyoaUu-6nM-fmQ9jMg   \n",
       "10185  Travel & Adventure  UC0VS45BTHzmoIqR9Ovxhlwg   \n",
       "10186  Travel & Adventure  UCBz6JnEN2jKGWLK1b86jUKg   \n",
       "10187  Travel & Adventure  UCOTZbz1Hw7ohL5Wkk05x_oQ   \n",
       "10188  Travel & Adventure  UCdsJ15JOpVYne4qYxQe7UfQ   \n",
       "\n",
       "                                                   Title  \\\n",
       "0      Art & Culture Top 50 MCQs June 2023 Updated | ...   \n",
       "1         ART & CULTURE DEPARTMENT ZAIPAWL VOL-1, disc 3   \n",
       "2      Understanding the Value of Arts and Culture | ...   \n",
       "3      Delhi Police 2023 Exam | à¤•à¤²à¤¾ à¤à¤µà¤‚ à...   \n",
       "4                       EDU in 90: Google Arts & Culture   \n",
       "...                                                  ...   \n",
       "10184  Always choosing this â˜€ï¸ðŸï¸ #Travel #Ad...   \n",
       "10185  Adventures fill your soul ðŸª‚ðŸ’ªâ¤ï¸ #trav...   \n",
       "10186  ROG || HYDERABAD || 650 TWINS || VIZAG_COLONY ...   \n",
       "10187  #travel #adventure #nature #zipline #mountains...   \n",
       "10188  ACCIDENT on ganga river mirzapur // #trending ...   \n",
       "\n",
       "                    Channel                Channel ID    Views  Likes  \\\n",
       "0               SSC Adda247  UCAyYBPzFioHUxvVZEn4rMJA   333581  19539   \n",
       "1               A&C Mizoram  UCydP2aV8KErUJI2QoO5Bjcw   603993   5100   \n",
       "2                 ahrcpress  UC4oFqK01f4STG5UJ72JAbdw    46954    352   \n",
       "3         Rojgar with Ankit  UC5H9MzrMkJ5iuN11vV2PLhA  1659779  86921   \n",
       "4      Google for Education  UCt84aUC9OG6di8kSdKzEHTQ    14615    136   \n",
       "...                     ...                       ...      ...    ...   \n",
       "10184         Steven Daliva  UCkOEEcyoaUu-6nM-fmQ9jMg     2075     78   \n",
       "10185          Nature savvy  UC0VS45BTHzmoIqR9Ovxhlwg        4      2   \n",
       "10186   The_Interceptor_guy  UCBz6JnEN2jKGWLK1b86jUKg      415     17   \n",
       "10187     Haseeb Malik ðŸ¤—  UCOTZbz1Hw7ohL5Wkk05x_oQ     6541    135   \n",
       "10188         Atharva Live7  UCdsJ15JOpVYne4qYxQe7UfQ      473     14   \n",
       "\n",
       "       Comments Duration (Minutes:Seconds)  Subscriber Count Published_Date  \\\n",
       "0           686                      13:46           8000000     2023-06-13   \n",
       "1           433                   56:46:00             27900     2020-12-01   \n",
       "2             6                      02:58              2880     2016-04-20   \n",
       "3          1718                  155:40:00          11800000     2023-11-07   \n",
       "4             3                      02:45            466000     2018-08-22   \n",
       "...         ...                        ...               ...            ...   \n",
       "10184         2                      00:17                74     2024-03-18   \n",
       "10185         0                      00:12                 4     2024-03-16   \n",
       "10186         2                      00:20                27     2024-03-18   \n",
       "10187         0                      00:17              1650     2024-03-17   \n",
       "10188         0                      00:07               411     2024-03-16   \n",
       "\n",
       "      Published_Time  \n",
       "0           14:20:14  \n",
       "1           07:29:44  \n",
       "2           09:35:15  \n",
       "3           16:28:07  \n",
       "4           22:30:01  \n",
       "...              ...  \n",
       "10184       10:35:49  \n",
       "10185       16:57:12  \n",
       "10186       15:12:40  \n",
       "10187       10:58:52  \n",
       "10188       05:13:35  \n",
       "\n",
       "[10139 rows x 12 columns]"
      ]
     },
     "execution_count": 14,
     "metadata": {},
     "output_type": "execute_result"
    }
   ],
   "source": [
    "df = df.dropna()\n",
    "df"
   ]
  },
  {
   "cell_type": "code",
   "execution_count": 15,
   "id": "b2f76dc1",
   "metadata": {
    "ExecuteTime": {
     "end_time": "2024-03-22T16:10:38.678180Z",
     "start_time": "2024-03-22T16:10:38.659708Z"
    }
   },
   "outputs": [
    {
     "name": "stdout",
     "output_type": "stream",
     "text": [
      "<class 'pandas.core.frame.DataFrame'>\n",
      "Index: 10139 entries, 0 to 10188\n",
      "Data columns (total 12 columns):\n",
      " #   Column                      Non-Null Count  Dtype \n",
      "---  ------                      --------------  ----- \n",
      " 0   Category                    10139 non-null  object\n",
      " 1   Video ID                    10139 non-null  object\n",
      " 2   Title                       10139 non-null  object\n",
      " 3   Channel                     10139 non-null  object\n",
      " 4   Channel ID                  10139 non-null  object\n",
      " 5   Views                       10139 non-null  int64 \n",
      " 6   Likes                       10139 non-null  int64 \n",
      " 7   Comments                    10139 non-null  int64 \n",
      " 8   Duration (Minutes:Seconds)  10139 non-null  object\n",
      " 9   Subscriber Count            10139 non-null  int64 \n",
      " 10  Published_Date              10139 non-null  object\n",
      " 11  Published_Time              10139 non-null  object\n",
      "dtypes: int64(4), object(8)\n",
      "memory usage: 1.0+ MB\n"
     ]
    }
   ],
   "source": [
    "df.info()"
   ]
  },
  {
   "cell_type": "code",
   "execution_count": 16,
   "id": "7487b647",
   "metadata": {
    "ExecuteTime": {
     "end_time": "2024-03-22T16:10:39.796385Z",
     "start_time": "2024-03-22T16:10:39.762767Z"
    }
   },
   "outputs": [
    {
     "data": {
      "text/plain": [
       "911"
      ]
     },
     "execution_count": 16,
     "metadata": {},
     "output_type": "execute_result"
    }
   ],
   "source": [
    "df.duplicated().sum()"
   ]
  },
  {
   "cell_type": "code",
   "execution_count": 17,
   "id": "983025d9",
   "metadata": {
    "ExecuteTime": {
     "end_time": "2024-03-22T16:10:41.090172Z",
     "start_time": "2024-03-22T16:10:41.059423Z"
    }
   },
   "outputs": [
    {
     "name": "stderr",
     "output_type": "stream",
     "text": [
      "C:\\Users\\shaha\\AppData\\Local\\Temp\\ipykernel_28836\\3006716147.py:1: SettingWithCopyWarning: \n",
      "A value is trying to be set on a copy of a slice from a DataFrame\n",
      "\n",
      "See the caveats in the documentation: https://pandas.pydata.org/pandas-docs/stable/user_guide/indexing.html#returning-a-view-versus-a-copy\n",
      "  df.drop_duplicates(inplace=True)\n"
     ]
    }
   ],
   "source": [
    "df.drop_duplicates(inplace=True)"
   ]
  },
  {
   "cell_type": "code",
   "execution_count": 18,
   "id": "23ac0f0e",
   "metadata": {
    "ExecuteTime": {
     "end_time": "2024-03-22T16:10:42.020803Z",
     "start_time": "2024-03-22T16:10:41.990158Z"
    }
   },
   "outputs": [
    {
     "data": {
      "text/plain": [
       "0"
      ]
     },
     "execution_count": 18,
     "metadata": {},
     "output_type": "execute_result"
    }
   ],
   "source": [
    "df.duplicated().sum()"
   ]
  },
  {
   "cell_type": "code",
   "execution_count": 19,
   "id": "63d03648",
   "metadata": {
    "ExecuteTime": {
     "end_time": "2024-03-22T16:10:42.873743Z",
     "start_time": "2024-03-22T16:10:42.855890Z"
    }
   },
   "outputs": [
    {
     "name": "stdout",
     "output_type": "stream",
     "text": [
      "<class 'pandas.core.frame.DataFrame'>\n",
      "Index: 9228 entries, 0 to 10188\n",
      "Data columns (total 12 columns):\n",
      " #   Column                      Non-Null Count  Dtype \n",
      "---  ------                      --------------  ----- \n",
      " 0   Category                    9228 non-null   object\n",
      " 1   Video ID                    9228 non-null   object\n",
      " 2   Title                       9228 non-null   object\n",
      " 3   Channel                     9228 non-null   object\n",
      " 4   Channel ID                  9228 non-null   object\n",
      " 5   Views                       9228 non-null   int64 \n",
      " 6   Likes                       9228 non-null   int64 \n",
      " 7   Comments                    9228 non-null   int64 \n",
      " 8   Duration (Minutes:Seconds)  9228 non-null   object\n",
      " 9   Subscriber Count            9228 non-null   int64 \n",
      " 10  Published_Date              9228 non-null   object\n",
      " 11  Published_Time              9228 non-null   object\n",
      "dtypes: int64(4), object(8)\n",
      "memory usage: 937.2+ KB\n"
     ]
    }
   ],
   "source": [
    "df.info()"
   ]
  },
  {
   "cell_type": "code",
   "execution_count": 20,
   "id": "d2272d71",
   "metadata": {
    "ExecuteTime": {
     "end_time": "2024-03-22T16:10:43.900290Z",
     "start_time": "2024-03-22T16:10:43.881258Z"
    }
   },
   "outputs": [
    {
     "name": "stderr",
     "output_type": "stream",
     "text": [
      "C:\\Users\\shaha\\AppData\\Local\\Temp\\ipykernel_28836\\2924761304.py:1: SettingWithCopyWarning: \n",
      "A value is trying to be set on a copy of a slice from a DataFrame.\n",
      "Try using .loc[row_indexer,col_indexer] = value instead\n",
      "\n",
      "See the caveats in the documentation: https://pandas.pydata.org/pandas-docs/stable/user_guide/indexing.html#returning-a-view-versus-a-copy\n",
      "  df[\"Published_Date\"] = pd.to_datetime(df[\"Published_Date\"])\n"
     ]
    }
   ],
   "source": [
    "df[\"Published_Date\"] = pd.to_datetime(df[\"Published_Date\"])"
   ]
  },
  {
   "cell_type": "code",
   "execution_count": 21,
   "id": "04b07d8e",
   "metadata": {
    "ExecuteTime": {
     "end_time": "2024-03-22T16:10:48.973067Z",
     "start_time": "2024-03-22T16:10:48.952541Z"
    }
   },
   "outputs": [
    {
     "name": "stderr",
     "output_type": "stream",
     "text": [
      "C:\\Users\\shaha\\AppData\\Local\\Temp\\ipykernel_28836\\3019887064.py:1: SettingWithCopyWarning: \n",
      "A value is trying to be set on a copy of a slice from a DataFrame.\n",
      "Try using .loc[row_indexer,col_indexer] = value instead\n",
      "\n",
      "See the caveats in the documentation: https://pandas.pydata.org/pandas-docs/stable/user_guide/indexing.html#returning-a-view-versus-a-copy\n",
      "  df[\"Published_Time\"] = pd.to_timedelta(df[\"Published_Time\"])\n"
     ]
    }
   ],
   "source": [
    "df[\"Published_Time\"] = pd.to_timedelta(df[\"Published_Time\"])"
   ]
  },
  {
   "cell_type": "code",
   "execution_count": 22,
   "id": "a6852238",
   "metadata": {
    "ExecuteTime": {
     "end_time": "2024-03-22T16:10:51.470575Z",
     "start_time": "2024-03-22T16:10:51.451773Z"
    }
   },
   "outputs": [
    {
     "name": "stdout",
     "output_type": "stream",
     "text": [
      "<class 'pandas.core.frame.DataFrame'>\n",
      "Index: 9228 entries, 0 to 10188\n",
      "Data columns (total 12 columns):\n",
      " #   Column                      Non-Null Count  Dtype          \n",
      "---  ------                      --------------  -----          \n",
      " 0   Category                    9228 non-null   object         \n",
      " 1   Video ID                    9228 non-null   object         \n",
      " 2   Title                       9228 non-null   object         \n",
      " 3   Channel                     9228 non-null   object         \n",
      " 4   Channel ID                  9228 non-null   object         \n",
      " 5   Views                       9228 non-null   int64          \n",
      " 6   Likes                       9228 non-null   int64          \n",
      " 7   Comments                    9228 non-null   int64          \n",
      " 8   Duration (Minutes:Seconds)  9228 non-null   object         \n",
      " 9   Subscriber Count            9228 non-null   int64          \n",
      " 10  Published_Date              9228 non-null   datetime64[ns] \n",
      " 11  Published_Time              9228 non-null   timedelta64[ns]\n",
      "dtypes: datetime64[ns](1), int64(4), object(6), timedelta64[ns](1)\n",
      "memory usage: 937.2+ KB\n"
     ]
    }
   ],
   "source": [
    "df.info()"
   ]
  },
  {
   "cell_type": "code",
   "execution_count": 23,
   "id": "1bb5079e",
   "metadata": {
    "ExecuteTime": {
     "end_time": "2024-03-22T16:10:56.725476Z",
     "start_time": "2024-03-22T16:10:56.406816Z"
    }
   },
   "outputs": [],
   "source": [
    "df.to_csv(\"My Persoanl YT File.csv\")"
   ]
  },
  {
   "cell_type": "code",
   "execution_count": null,
   "id": "5e37468b",
   "metadata": {},
   "outputs": [],
   "source": []
  },
  {
   "cell_type": "code",
   "execution_count": null,
   "id": "2b7b43a9",
   "metadata": {},
   "outputs": [],
   "source": []
  },
  {
   "cell_type": "code",
   "execution_count": null,
   "id": "02697833",
   "metadata": {},
   "outputs": [],
   "source": []
  },
  {
   "cell_type": "code",
   "execution_count": null,
   "id": "bbdf3451",
   "metadata": {},
   "outputs": [],
   "source": []
  },
  {
   "cell_type": "code",
   "execution_count": null,
   "id": "4884ec01",
   "metadata": {
    "ExecuteTime": {
     "end_time": "2024-03-20T18:27:44.478831Z",
     "start_time": "2024-03-20T18:27:44.470251Z"
    }
   },
   "outputs": [],
   "source": [
    "df[\"Published_At\"] = df[\"Published_Date\"].str.cat(df[\"Published_Time\"], sep=\" \")"
   ]
  },
  {
   "cell_type": "code",
   "execution_count": null,
   "id": "d733e9bc",
   "metadata": {
    "ExecuteTime": {
     "end_time": "2024-03-20T18:27:44.493068Z",
     "start_time": "2024-03-20T18:27:44.482948Z"
    },
    "scrolled": true
   },
   "outputs": [],
   "source": [
    "df.head(5)"
   ]
  },
  {
   "cell_type": "code",
   "execution_count": null,
   "id": "93d50ae5",
   "metadata": {
    "ExecuteTime": {
     "end_time": "2024-03-20T18:27:44.501946Z",
     "start_time": "2024-03-20T18:27:44.495074Z"
    }
   },
   "outputs": [],
   "source": [
    "df.dtypes"
   ]
  },
  {
   "cell_type": "code",
   "execution_count": null,
   "id": "b96dc9fe",
   "metadata": {
    "ExecuteTime": {
     "end_time": "2024-03-20T18:27:44.517412Z",
     "start_time": "2024-03-20T18:27:44.504954Z"
    }
   },
   "outputs": [],
   "source": [
    "df[\"Published_At\"] = pd.to_datetime(df[\"Published_At\"])"
   ]
  },
  {
   "cell_type": "code",
   "execution_count": null,
   "id": "f7c93821",
   "metadata": {
    "ExecuteTime": {
     "end_time": "2024-03-20T18:27:44.527244Z",
     "start_time": "2024-03-20T18:27:44.518425Z"
    }
   },
   "outputs": [],
   "source": [
    "df.dtypes"
   ]
  },
  {
   "cell_type": "code",
   "execution_count": null,
   "id": "02ad5a58",
   "metadata": {
    "ExecuteTime": {
     "end_time": "2024-03-20T18:27:44.539202Z",
     "start_time": "2024-03-20T18:27:44.529256Z"
    }
   },
   "outputs": [],
   "source": [
    "df.isnull().sum()"
   ]
  },
  {
   "cell_type": "code",
   "execution_count": null,
   "id": "b0fc7cc1",
   "metadata": {
    "ExecuteTime": {
     "end_time": "2024-03-20T18:27:44.547005Z",
     "start_time": "2024-03-20T18:27:44.540209Z"
    }
   },
   "outputs": [],
   "source": [
    "drop_Date_Time = [\"Published_Time\",\"Published_Date\"]\n",
    "df.drop(columns=drop_Date_Time,inplace=True)"
   ]
  },
  {
   "cell_type": "code",
   "execution_count": null,
   "id": "a8e12d4b",
   "metadata": {
    "ExecuteTime": {
     "end_time": "2024-03-20T18:27:44.557000Z",
     "start_time": "2024-03-20T18:27:44.548012Z"
    }
   },
   "outputs": [],
   "source": [
    "df.isnull().sum()"
   ]
  },
  {
   "cell_type": "code",
   "execution_count": null,
   "id": "4c4986c6",
   "metadata": {
    "ExecuteTime": {
     "end_time": "2024-03-20T18:27:44.575768Z",
     "start_time": "2024-03-20T18:27:44.559022Z"
    }
   },
   "outputs": [],
   "source": [
    "df = df.dropna()\n",
    "df"
   ]
  },
  {
   "cell_type": "code",
   "execution_count": null,
   "id": "0690f82c",
   "metadata": {
    "ExecuteTime": {
     "end_time": "2024-03-20T18:27:44.642437Z",
     "start_time": "2024-03-20T18:27:44.576774Z"
    }
   },
   "outputs": [],
   "source": [
    "df.info()"
   ]
  },
  {
   "cell_type": "code",
   "execution_count": null,
   "id": "80619e2a",
   "metadata": {
    "ExecuteTime": {
     "end_time": "2024-03-20T18:27:44.659122Z",
     "start_time": "2024-03-20T18:27:44.643449Z"
    }
   },
   "outputs": [],
   "source": [
    "df.duplicated().sum()"
   ]
  },
  {
   "cell_type": "code",
   "execution_count": null,
   "id": "3d0a70fd",
   "metadata": {
    "ExecuteTime": {
     "end_time": "2024-03-20T18:27:44.674794Z",
     "start_time": "2024-03-20T18:27:44.660134Z"
    }
   },
   "outputs": [],
   "source": [
    "df.drop_duplicates(inplace=True)"
   ]
  },
  {
   "cell_type": "code",
   "execution_count": null,
   "id": "40640bd3",
   "metadata": {
    "ExecuteTime": {
     "end_time": "2024-03-20T18:27:44.691061Z",
     "start_time": "2024-03-20T18:27:44.676812Z"
    }
   },
   "outputs": [],
   "source": [
    "df.duplicated().sum()"
   ]
  },
  {
   "cell_type": "code",
   "execution_count": null,
   "id": "a0e6caf7",
   "metadata": {
    "ExecuteTime": {
     "end_time": "2024-03-20T18:27:44.702043Z",
     "start_time": "2024-03-20T18:27:44.693076Z"
    }
   },
   "outputs": [],
   "source": [
    "df.info()"
   ]
  },
  {
   "cell_type": "code",
   "execution_count": null,
   "id": "6ce46170",
   "metadata": {
    "ExecuteTime": {
     "end_time": "2024-03-20T18:27:44.709181Z",
     "start_time": "2024-03-20T18:27:44.704054Z"
    }
   },
   "outputs": [],
   "source": [
    "df.shape"
   ]
  },
  {
   "cell_type": "code",
   "execution_count": null,
   "id": "1d2a5c61",
   "metadata": {
    "ExecuteTime": {
     "end_time": "2024-03-20T18:27:44.717785Z",
     "start_time": "2024-03-20T18:27:44.710188Z"
    }
   },
   "outputs": [],
   "source": [
    "unique_category = df[\"Category\"].unique()\n",
    "unique_category"
   ]
  },
  {
   "cell_type": "code",
   "execution_count": null,
   "id": "452cd6c6",
   "metadata": {
    "ExecuteTime": {
     "end_time": "2024-03-20T18:27:44.726071Z",
     "start_time": "2024-03-20T18:27:44.719799Z"
    }
   },
   "outputs": [],
   "source": [
    "df[\"Category\"].value_counts()"
   ]
  },
  {
   "cell_type": "code",
   "execution_count": null,
   "id": "b37b7819",
   "metadata": {
    "ExecuteTime": {
     "end_time": "2024-03-20T18:27:44.738524Z",
     "start_time": "2024-03-20T18:27:44.728090Z"
    },
    "scrolled": true
   },
   "outputs": [],
   "source": [
    "df.head(10)"
   ]
  },
  {
   "cell_type": "code",
   "execution_count": null,
   "id": "777ea729",
   "metadata": {
    "ExecuteTime": {
     "end_time": "2024-03-20T18:27:44.748089Z",
     "start_time": "2024-03-20T18:27:44.740533Z"
    }
   },
   "outputs": [],
   "source": [
    "df['Duration (hh:mm:ss)'] = df['Duration (Minutes:Seconds)'].apply(lambda x:f\"00:{x}\")"
   ]
  },
  {
   "cell_type": "code",
   "execution_count": null,
   "id": "e24bb022",
   "metadata": {
    "ExecuteTime": {
     "end_time": "2024-03-20T18:27:44.759434Z",
     "start_time": "2024-03-20T18:27:44.750103Z"
    }
   },
   "outputs": [],
   "source": [
    "split_duration = df['Duration (Minutes:Seconds)'].str.split(':',expand=True)"
   ]
  },
  {
   "cell_type": "code",
   "execution_count": null,
   "id": "f738d675",
   "metadata": {
    "ExecuteTime": {
     "end_time": "2024-03-20T18:27:44.772744Z",
     "start_time": "2024-03-20T18:27:44.762590Z"
    }
   },
   "outputs": [],
   "source": [
    "df['Duration'] = pd.to_timedelta(split_duration[0].astype(int), unit='h') + pd.to_timedelta(split_duration[1].astype(int),unit='m')"
   ]
  },
  {
   "cell_type": "code",
   "execution_count": null,
   "id": "d618b2c5",
   "metadata": {
    "ExecuteTime": {
     "end_time": "2024-03-20T18:27:44.782942Z",
     "start_time": "2024-03-20T18:27:44.773750Z"
    }
   },
   "outputs": [],
   "source": [
    "Duration_drop_column = [\"Duration (Minutes:Seconds)\",\"Duration (hh:mm:ss)\"]\n",
    "df.drop(columns=Duration_drop_column,inplace=True)"
   ]
  },
  {
   "cell_type": "code",
   "execution_count": null,
   "id": "a5de5115",
   "metadata": {
    "ExecuteTime": {
     "end_time": "2024-03-20T18:27:44.797601Z",
     "start_time": "2024-03-20T18:27:44.783952Z"
    }
   },
   "outputs": [],
   "source": [
    "df"
   ]
  },
  {
   "cell_type": "code",
   "execution_count": null,
   "id": "f1ccdeed",
   "metadata": {
    "ExecuteTime": {
     "end_time": "2024-03-20T18:27:44.808451Z",
     "start_time": "2024-03-20T18:27:44.798608Z"
    },
    "scrolled": false
   },
   "outputs": [],
   "source": [
    "df.info()"
   ]
  },
  {
   "cell_type": "code",
   "execution_count": null,
   "id": "3b91dcd0",
   "metadata": {
    "ExecuteTime": {
     "end_time": "2024-03-20T18:32:58.287597Z",
     "start_time": "2024-03-20T18:32:58.263616Z"
    }
   },
   "outputs": [],
   "source": [
    "df"
   ]
  },
  {
   "cell_type": "code",
   "execution_count": null,
   "id": "b0555f66",
   "metadata": {
    "ExecuteTime": {
     "end_time": "2024-03-20T18:34:04.093433Z",
     "start_time": "2024-03-20T18:34:03.755910Z"
    }
   },
   "outputs": [],
   "source": [
    "df.to_csv(\"YouTube_Data_Final_Project_01.csv\")"
   ]
  }
 ],
 "metadata": {
  "kernelspec": {
   "display_name": "Python 3 (ipykernel)",
   "language": "python",
   "name": "python3"
  },
  "language_info": {
   "codemirror_mode": {
    "name": "ipython",
    "version": 3
   },
   "file_extension": ".py",
   "mimetype": "text/x-python",
   "name": "python",
   "nbconvert_exporter": "python",
   "pygments_lexer": "ipython3",
   "version": "3.11.5"
  }
 },
 "nbformat": 4,
 "nbformat_minor": 5
}
